{
 "cells": [
  {
   "cell_type": "code",
   "execution_count": null,
   "metadata": {},
   "outputs": [],
   "source": [
    "import numpy as np\n",
    "import h5py\n",
    "import glob\n",
    "from os.path import *\n",
    "\n",
    "from unet import bcgunet\n",
    "from bigru import bcgbigru\n",
    "\n",
    "ffs = glob.glob('dataset/noscan/*/analysis/eyeclose_*.mat')\n",
    "result_obs = []\n",
    "result_unet = []\n",
    "result_bigru = []\n",
    "result_eeg = []\n",
    "\n",
    "for close_f in ffs:  \n",
    "\n",
    "    # ECG data import\n",
    "    open_f = close_f.replace('close', 'open')\n",
    "    if not isfile(open_f) or \"bcgnet\" in close_f:\n",
    "        continue\n",
    "\n",
    "\n",
    "    # ECG eye close data\n",
    "    f = h5py.File(close_f , 'r')\n",
    "    ECG = np.array(f['ECG']).flatten()\n",
    "    EEG = np.array(f['EEG_before_bcg']).T\n",
    "    EEG_OBS = np.array(f['EEG']).T\n",
    "    \n",
    "    EEG_unet = bcgunet.run(EEG, ECG, iter_num=500)\n",
    "    EEG_bigru = bcgbigru.run(EEG, ECG, iter_num=500)\n",
    "\n",
    "    psd_obs_close = bcgunet.get_psd(EEG_OBS[:, ::10], sfreq=500)\n",
    "    psd_unet_close = bcgunet.get_psd(EEG_unet[:, ::10], sfreq=500)\n",
    "    psd_bigru_close = bcgbigru.get_psd(EEG_bigru[:, ::10], sfreq=500)\n",
    "    psd_eeg_close= bcgunet.get_psd(EEG[:, ::10], sfreq=500)\n",
    "\n",
    "\n",
    "    # ECG eye open data\n",
    "    f = h5py.File(open_f , 'r')\n",
    "    ECG = np.array(f['ECG']).flatten()\n",
    "    EEG = np.array(f['EEG_before_bcg']).T\n",
    "    EEG_OBS = np.array(f['EEG']).T\n",
    "\n",
    "    EEG_unet = bcgunet.run(EEG, ECG, iter_num=500)\n",
    "    EEG_bigru = bcgbigru.run(EEG, ECG, iter_num=500)\n",
    "\n",
    "    psd_obs_open = bcgunet.get_psd(EEG_OBS[:, ::10], sfreq=500)\n",
    "    psd_unet_open = bcgunet.get_psd(EEG_unet[:, ::10], sfreq=500)\n",
    "    psd_bigru_open = bcgbigru.get_psd(EEG_bigru[:, ::10], sfreq=500)\n",
    "    psd_eeg_open = bcgunet.get_psd(EEG[:, ::10], sfreq=500)\n",
    "\n",
    "\n",
    "    # PSD result\n",
    "    result_obs.append(psd_obs_close / psd_obs_open)\n",
    "    result_unet.append(psd_unet_close / psd_unet_open)\n",
    "    result_bigru.append(psd_bigru_close / psd_bigru_open)\n",
    "    result_eeg.append(psd_eeg_close / psd_eeg_open)\n",
    "\n"
   ]
  },
  {
   "cell_type": "code",
   "execution_count": null,
   "metadata": {},
   "outputs": [],
   "source": [
    "import matplotlib.pyplot as plt\n",
    "plt.figure(figsize=(12, 7), dpi=300)\n",
    "indx = np.argsort(np.mean(result_unet, axis=0).flatten())\n",
    "\n",
    "plt.plot(np.mean(result_obs, axis=0)[indx], 'r.-', label='OBS')\n",
    "plt.plot(np.mean(result_unet, axis=0)[indx] , 'g.-', label='U-Net')\n",
    "plt.plot(np.mean(result_bigru, axis=0)[indx] , 'k.-', label='BiGRU')\n",
    "plt.plot(np.mean(result_eeg, axis=0)[indx], 'b.-', label='Orig EEG')\n",
    "\n",
    "label = ['Fp1', 'Fp2', 'F3', 'F4', 'C3', 'C4', 'P3', 'P4', 'O1',\n",
    "         'O2', 'F7', 'F8', 'T7', 'T8', 'P7', 'P8', 'Fz', 'Cz',\n",
    "         'Pz', 'Oz', 'FC1', 'FC2', 'CP1', 'CP2', 'FC5', 'FC6',\n",
    "         'CP5', 'CP6', 'TP9', 'TP10', 'POz']\n",
    "label = [label[ii] for ii in indx]\n",
    "plt.xlabel('Channel')\n",
    "plt.ylabel('Alpha PSD ratio (close/open)')\n",
    "plt.xticks(np.arange(31), label, fontsize=14, rotation=90)\n",
    "\n",
    "plt.legend()"
   ]
  }
 ],
 "metadata": {
  "kernelspec": {
   "display_name": "Python 3 (ipykernel)",
   "language": "python",
   "name": "python3"
  },
  "language_info": {
   "codemirror_mode": {
    "name": "ipython",
    "version": 3
   },
   "file_extension": ".py",
   "mimetype": "text/x-python",
   "name": "python",
   "nbconvert_exporter": "python",
   "pygments_lexer": "ipython3",
   "version": "3.10.10"
  },
  "vscode": {
   "interpreter": {
    "hash": "e4cce46d6be9934fbd27f9ca0432556941ea5bdf741d4f4d64c6cd7f8dfa8fba"
   }
  }
 },
 "nbformat": 4,
 "nbformat_minor": 4
}
