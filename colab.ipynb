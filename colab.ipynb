{
  "cells": [
    {
      "cell_type": "code",
      "source": [
        "!git clone https://github.com/fahsuanlin/BCGunet.git\n",
        "%cd BCGunet\n",
        "!wget https://data.mrilab.org/EyeClose1_noscan.zip\n",
        "!unzip EyeClose1_noscan.zip"
      ],
      "metadata": {
        "id": "gHfaAUrZwTNc"
      },
      "execution_count": null,
      "outputs": []
    },
    {
      "cell_type": "code",
      "execution_count": null,
      "metadata": {
        "id": "5U6a6dNAwIsG"
      },
      "outputs": [],
      "source": [
        "#install the following package\n",
        "#!pip install  torch numpy scikit-learn h5py PyWavelets\n",
        "\n",
        "# Step 1: loading mat file\n",
        "import numpy as np\n",
        "import h5py\n",
        "from bcgunet import bcgunet\n",
        "f = h5py.File(\"EyeClose1_noscan.mat\", 'r')\n",
        "ECG = np.array(f['ECG']).flatten()\n",
        "EEG = np.array(f['EEG_before_bcg']).T\n",
        "EEG_OBS = np.array(f['EEG']).T\n",
        "\n",
        "print(ECG.shape)\n",
        "print(EEG.shape)\n"
      ]
    },
    {
      "cell_type": "code",
      "execution_count": null,
      "metadata": {
        "id": "d57gynrjwIsJ"
      },
      "outputs": [],
      "source": [
        "# Step 2: Get BCG from EEG and ECG\n",
        "# (input_eeg, input_ecg, sfreq=5000, iter_num=5000, winsize_sec=2, lr=1e-3, onecycle=True)\n",
        "# BCG = bcgunet.run(EEG, ECG, iter_num=10000)\n",
        "# BCG = bcgunet.run(EEG) run it without ECG\n",
        "EEG_unet = bcgunet.run(EEG, ECG)\n",
        "\n"
      ]
    },
    {
      "cell_type": "code",
      "execution_count": null,
      "metadata": {
        "id": "75x6TBa2wIsJ"
      },
      "outputs": [],
      "source": [
        "# Step 3: Plot EEG-BCG\n",
        "import matplotlib.pyplot as plt\n",
        "\n",
        "plt.figure(figsize=(12, 6), dpi=100)\n",
        "\n",
        "plt.plot(EEG[19, -50000:], 'g')\n",
        "plt.plot(EEG_unet[19, -50000:], 'r')\n",
        "plt.plot(EEG_OBS[19, -50000:], 'b')\n",
        "plt.show()\n",
        "\n",
        "plt.figure(figsize=(12, 6), dpi=100)\n",
        "plt.plot(ECG[-50000:])\n",
        "plt.show()\n"
      ]
    },
    {
      "cell_type": "code",
      "execution_count": null,
      "metadata": {
        "id": "SBWq3p_hwIsJ"
      },
      "outputs": [],
      "source": [
        "psd_obs = bcgunet.get_psd(EEG_OBS)\n",
        "psd_unet = bcgunet.get_psd(EEG_unet)\n",
        "label = ['Fp1', 'Fp2', 'F3', 'F4', 'C3', 'C4', 'P3', 'P4', 'O1',\n",
        "         'O2', 'F7', 'F8', 'T7', 'T8', 'P7', 'P8', 'Fz', 'Cz',\n",
        "         'Pz', 'Oz', 'FC1', 'FC2', 'CP1', 'CP2', 'FC5', 'FC6',\n",
        "         'CP5', 'CP6', 'TP9', 'TP10', 'POz']\n",
        "plt.figure(figsize=(12, 4), dpi=300)\n",
        "plt.plot(psd_obs, 'r', label='OBS')\n",
        "plt.plot(psd_unet, 'b', label='BCGUNET')\n",
        "plt.xlabel('Channel')\n",
        "plt.ylabel('PSD')\n",
        "plt.xticks(np.arange(31), label, fontsize=8)\n",
        "plt.legend()\n"
      ]
    }
  ],
  "metadata": {
    "kernelspec": {
      "display_name": "base",
      "language": "python",
      "name": "python3"
    },
    "language_info": {
      "codemirror_mode": {
        "name": "ipython",
        "version": 3
      },
      "file_extension": ".py",
      "mimetype": "text/x-python",
      "name": "python",
      "nbconvert_exporter": "python",
      "pygments_lexer": "ipython3",
      "version": "3.8.8"
    },
    "orig_nbformat": 4,
    "vscode": {
      "interpreter": {
        "hash": "e4cce46d6be9934fbd27f9ca0432556941ea5bdf741d4f4d64c6cd7f8dfa8fba"
      }
    },
    "colab": {
      "provenance": []
    },
    "accelerator": "GPU",
    "gpuClass": "standard"
  },
  "nbformat": 4,
  "nbformat_minor": 0
}